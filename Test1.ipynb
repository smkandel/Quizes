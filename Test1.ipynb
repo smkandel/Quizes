{
  "nbformat": 4,
  "nbformat_minor": 0,
  "metadata": {
    "colab": {
      "provenance": [],
      "authorship_tag": "ABX9TyMr1m0CZtl8KJbcZbkhZMtw",
      "include_colab_link": true
    },
    "kernelspec": {
      "name": "python3",
      "display_name": "Python 3"
    },
    "language_info": {
      "name": "python"
    }
  },
  "cells": [
    {
      "cell_type": "markdown",
      "metadata": {
        "id": "view-in-github",
        "colab_type": "text"
      },
      "source": [
        "<a href=\"https://colab.research.google.com/github/smkandel/Quizes/blob/main/Test1.ipynb\" target=\"_parent\"><img src=\"https://colab.research.google.com/assets/colab-badge.svg\" alt=\"Open In Colab\"/></a>"
      ]
    },
    {
      "cell_type": "code",
      "execution_count": null,
      "metadata": {
        "colab": {
          "base_uri": "https://localhost:8080/"
        },
        "id": "ZRh2BZA3KObu",
        "outputId": "8f7c33f5-542a-42fd-d22a-274b2fbfd4df"
      },
      "outputs": [
        {
          "output_type": "stream",
          "name": "stdout",
          "text": [
            "113.03999999999999\n",
            "37.68\n"
          ]
        }
      ],
      "source": [
        "#Write a function to calculate area and circumference of a circle.\n",
        "def area_of_circle(radius):\n",
        "  return 3.14*radius*radius\n",
        "\n",
        "radius=6 \n",
        "print(area_of_circle(radius))\n",
        "\n",
        "def circumference_of_circle(radius):\n",
        "  return 2*3.14*radius\n",
        "print(circumference_of_circle(radius))\n"
      ]
    },
    {
      "cell_type": "code",
      "source": [
        "#A certain print order costs $3.00 per copy for orders of less than ten copies, $1.25 for for orders of 10-99 copies, and $0.90 per copy for orders of 100 copies or more. Write a function that returns a total price for the order.\n",
        "\n",
        "\n",
        "def total_price(n):\n",
        "  if n<10:\n",
        "    cost=3\n",
        "  elif n>10 and n<100:\n",
        "    cost= 1.25\n",
        "  elif n >=100:\n",
        "    cost= 0.9\n",
        "  return cost*n  \n",
        "\n",
        "n=99\n",
        "print(total_price(n))       \n",
        "     \n",
        "\n"
      ],
      "metadata": {
        "id": "a_AeAu7DLkP1",
        "colab": {
          "base_uri": "https://localhost:8080/"
        },
        "outputId": "ca63dc9e-eb8c-48cf-99b2-063abcf5f640"
      },
      "execution_count": null,
      "outputs": [
        {
          "output_type": "stream",
          "name": "stdout",
          "text": [
            "123.75\n"
          ]
        }
      ]
    },
    {
      "cell_type": "code",
      "source": [
        "#Write a function that takes in a list of integers or floats and returns True if the list contains duplicates and False if the list does not contain duplicates. Use a type hint to “enforce” the correct type.\n",
        "list1=[1,2,3,2,1]\n",
        "\n",
        "def check_duplicates(list_temp):\n",
        "  for k in list1:\n",
        "    temp_check=list_temp.copy()\n",
        "    temp_check.remove(k)\n",
        "    print(\"Removed list\", temp_check)\n",
        "    if k in temp_check:\n",
        "      return True\n",
        "  return False\n",
        "\n",
        "print(check_duplicates(list1))        \n",
        "\n"
      ],
      "metadata": {
        "id": "8iFb3IgvLkUI",
        "colab": {
          "base_uri": "https://localhost:8080/"
        },
        "outputId": "b0ab413a-8985-4ca0-eca9-a99f62346bde"
      },
      "execution_count": null,
      "outputs": [
        {
          "output_type": "stream",
          "name": "stdout",
          "text": [
            "Removed list [2, 3, 2, 1]\n",
            "True\n"
          ]
        }
      ]
    },
    {
      "cell_type": "code",
      "source": [
        "list1=[1,2,3,2,1]\n",
        "len(list1)\n",
        "\n",
        "my_set=set(list1)\n",
        "my_set\n",
        "len(my_set)"
      ],
      "metadata": {
        "colab": {
          "base_uri": "https://localhost:8080/"
        },
        "id": "jtyhjCPgtCc8",
        "outputId": "a4adc9f5-d1d2-4b10-9638-5a4d227aadd5"
      },
      "execution_count": null,
      "outputs": [
        {
          "output_type": "execute_result",
          "data": {
            "text/plain": [
              "3"
            ]
          },
          "metadata": {},
          "execution_count": 18
        }
      ]
    },
    {
      "cell_type": "code",
      "source": [
        "#Write a function that takes in a string and returns the string with all the vowels\n",
        "\n",
        "str1=\"Hello python programming\"\n",
        "\n",
        "\n",
        "def is_vowels(str1):\n",
        "  str_temp=\"\"\n",
        "  vowels=\"aeiou\"\n",
        "  for k in str1:\n",
        "    if k.lower() in vowels:\n",
        "      str_temp=str_temp+k\n",
        "    return str_temp\n",
        "print(is_vowels(str1))    \n",
        "\n"
      ],
      "metadata": {
        "colab": {
          "base_uri": "https://localhost:8080/"
        },
        "id": "MMqNjuSiLkXY",
        "outputId": "ddaad406-cebe-4148-a639-8731b4ac1531"
      },
      "execution_count": null,
      "outputs": [
        {
          "output_type": "stream",
          "name": "stdout",
          "text": [
            "\n"
          ]
        }
      ]
    },
    {
      "cell_type": "code",
      "source": [
        "#Using a loop (that is, without using a slice), write a function “reverse_list” and takes a list as input and returns a copy of the list in which all the elements have been swapped (the first element with the last, the second with the next to last, etc.) Test that it works correctly for the following lists:\n",
        "\n",
        "\n",
        "\n",
        "\n",
        "\n",
        " \n",
        "\n"
      ],
      "metadata": {
        "id": "R4pUhyhALkaI",
        "colab": {
          "base_uri": "https://localhost:8080/"
        },
        "outputId": "8be287c8-b2ac-402a-ecdd-e965494a9154"
      },
      "execution_count": null,
      "outputs": [
        {
          "output_type": "stream",
          "name": "stdout",
          "text": [
            "[7, 6, 5, 4, 3, 2, 1]\n"
          ]
        }
      ]
    },
    {
      "cell_type": "code",
      "source": [],
      "metadata": {
        "id": "8wCX9lEGLkdY"
      },
      "execution_count": null,
      "outputs": []
    }
  ]
}